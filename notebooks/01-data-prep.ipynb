{
 "cells": [
  {
   "cell_type": "markdown",
   "id": "6c11058d",
   "metadata": {},
   "source": [
    "# DATA PREPARATION"
   ]
  },
  {
   "cell_type": "markdown",
   "id": "377ac366",
   "metadata": {},
   "source": [
    "## 1. Imports"
   ]
  },
  {
   "cell_type": "code",
   "execution_count": null,
   "id": "0f85ebff",
   "metadata": {},
   "outputs": [],
   "source": [
    "import warnings\n",
    "from datasets import load_dataset\n",
    "from huggingface_hub import notebook_login\n",
    "from prepare_database import create_data , final_imgs , regroup_imgs\n",
    "\n",
    "warnings.filterwarnings(\"ignore\")"
   ]
  },
  {
   "cell_type": "markdown",
   "id": "20cf50dc",
   "metadata": {},
   "source": [
    "## 2. Filtering data and sampling"
   ]
  },
  {
   "cell_type": "code",
   "execution_count": null,
   "id": "9caf4726",
   "metadata": {},
   "outputs": [
    {
     "name": "stdout",
     "output_type": "stream",
     "text": [
      "*******************************************************************\n",
      "info of the data\n",
      "*******************************************************************\n",
      "\n",
      "\n",
      "<class 'pandas.core.frame.DataFrame'>\n",
      "RangeIndex: 44446 entries, 0 to 44445\n",
      "Data columns (total 3 columns):\n",
      " #   Column              Non-Null Count  Dtype \n",
      "---  ------              --------------  ----- \n",
      " 0   id                  44446 non-null  int64 \n",
      " 1   articleType         44446 non-null  object\n",
      " 2   productDisplayName  44439 non-null  object\n",
      "dtypes: int64(1), object(2)\n",
      "memory usage: 1.0+ MB\n",
      "\n",
      "\n",
      "*******************************************************************\n",
      "It contains unique article types as given below\n",
      "*******************************************************************\n",
      "\n",
      "\n",
      "['Shirts' 'Jeans' 'Watches' 'Track Pants' 'Tshirts' 'Socks' 'Casual Shoes'\n",
      " 'Belts' 'Flip Flops' 'Handbags' 'Tops' 'Bra' 'Sandals' 'Shoe Accessories'\n",
      " 'Sweatshirts' 'Deodorant' 'Formal Shoes' 'Bracelet' 'Lipstick' 'Flats'\n",
      " 'Kurtas' 'Waistcoat' 'Sports Shoes' 'Shorts' 'Briefs' 'Sarees'\n",
      " 'Perfume and Body Mist' 'Heels' 'Sunglasses' 'Innerwear Vests' 'Pendant'\n",
      " 'Nail Polish' 'Laptop Bag' 'Scarves' 'Rain Jacket' 'Dresses'\n",
      " 'Night suits' 'Skirts' 'Wallets' 'Blazers' 'Ring' 'Kurta Sets' 'Clutches'\n",
      " 'Shrug' 'Backpacks' 'Caps' 'Trousers' 'Earrings' 'Camisoles' 'Boxers'\n",
      " 'Jewellery Set' 'Dupatta' 'Capris' 'Lip Gloss' 'Bath Robe' 'Mufflers'\n",
      " 'Tunics' 'Jackets' 'Trunk' 'Lounge Pants' 'Face Wash and Cleanser'\n",
      " 'Necklace and Chains' 'Duffel Bag' 'Sports Sandals'\n",
      " 'Foundation and Primer' 'Sweaters' 'Free Gifts' 'Trolley Bag'\n",
      " 'Tracksuits' 'Swimwear' 'Shoe Laces' 'Fragrance Gift Set' 'Bangle'\n",
      " 'Nightdress' 'Ties' 'Baby Dolls' 'Leggings' 'Highlighter and Blush'\n",
      " 'Travel Accessory' 'Kurtis' 'Mobile Pouch' 'Messenger Bag' 'Lip Care'\n",
      " 'Face Moisturisers' 'Compact' 'Eye Cream' 'Accessory Gift Set'\n",
      " 'Beauty Accessory' 'Jumpsuit' 'Kajal and Eyeliner' 'Water Bottle'\n",
      " 'Suspenders' 'Lip Liner' 'Robe' 'Salwar and Dupatta' 'Patiala'\n",
      " 'Stockings' 'Eyeshadow' 'Headband' 'Tights' 'Nail Essentials' 'Churidar'\n",
      " 'Lounge Tshirts' 'Face Scrub and Exfoliator' 'Lounge Shorts' 'Gloves'\n",
      " 'Mask and Peel' 'Wristbands' 'Tablet Sleeve' 'Ties and Cufflinks'\n",
      " 'Footballs' 'Stoles' 'Shapewear' 'Nehru Jackets' 'Salwar' 'Cufflinks'\n",
      " 'Jeggings' 'Hair Colour' 'Concealer' 'Rompers' 'Body Lotion' 'Sunscreen'\n",
      " 'Booties' 'Waist Pouch' 'Hair Accessory' 'Rucksacks' 'Basketballs'\n",
      " 'Lehenga Choli' 'Clothing Set' 'Mascara' 'Toner' 'Cushion Covers'\n",
      " 'Key chain' 'Makeup Remover' 'Lip Plumper' 'Umbrellas'\n",
      " 'Face Serum and Gel' 'Hat' 'Mens Grooming Kit' 'Rain Trousers'\n",
      " 'Body Wash and Scrub' 'Suits' 'Ipad']\n",
      "\n",
      "\n",
      "*******************************************************************\n",
      "article type counts - printing only 50\n",
      "*******************************************************************\n",
      "\n",
      "\n",
      "articleType\n",
      "Tshirts                  7070\n",
      "Shirts                   3217\n",
      "Casual Shoes             2846\n",
      "Watches                  2542\n",
      "Sports Shoes             2036\n",
      "Kurtas                   1844\n",
      "Tops                     1762\n",
      "Handbags                 1759\n",
      "Heels                    1323\n",
      "Sunglasses               1073\n",
      "Wallets                   936\n",
      "Flip Flops                916\n",
      "Sandals                   897\n",
      "Briefs                    849\n",
      "Belts                     813\n",
      "Backpacks                 724\n",
      "Socks                     686\n",
      "Formal Shoes              637\n",
      "Perfume and Body Mist     614\n",
      "Jeans                     609\n",
      "Shorts                    547\n",
      "Trousers                  530\n",
      "Flats                     500\n",
      "Bra                       477\n",
      "Dresses                   464\n",
      "Sarees                    427\n",
      "Earrings                  417\n",
      "Deodorant                 347\n",
      "Nail Polish               329\n",
      "Lipstick                  315\n",
      "Track Pants               304\n",
      "Clutches                  290\n",
      "Sweatshirts               285\n",
      "Caps                      283\n",
      "Sweaters                  277\n",
      "Ties                      263\n",
      "Jackets                   258\n",
      "Innerwear Vests           242\n",
      "Kurtis                    234\n",
      "Tunics                    229\n",
      "Nightdress                189\n",
      "Leggings                  177\n",
      "Pendant                   176\n",
      "Capris                    175\n",
      "Necklace and Chains       160\n",
      "Lip Gloss                 144\n",
      "Night suits               141\n",
      "Trunk                     140\n",
      "Skirts                    128\n",
      "Scarves                   119\n",
      "Name: count, dtype: int64\n",
      "\n",
      "\n",
      "*******************************************************************\n",
      "Consider articles that contain atleast 300 entries\n",
      "*******************************************************************\n",
      "\n",
      "\n",
      "articleType\n",
      "Tshirts                  7070\n",
      "Shirts                   3217\n",
      "Casual Shoes             2846\n",
      "Watches                  2542\n",
      "Sports Shoes             2036\n",
      "Kurtas                   1844\n",
      "Tops                     1762\n",
      "Handbags                 1759\n",
      "Heels                    1323\n",
      "Sunglasses               1073\n",
      "Wallets                   936\n",
      "Flip Flops                916\n",
      "Sandals                   897\n",
      "Briefs                    849\n",
      "Belts                     813\n",
      "Backpacks                 724\n",
      "Socks                     686\n",
      "Formal Shoes              637\n",
      "Perfume and Body Mist     614\n",
      "Jeans                     609\n",
      "Shorts                    547\n",
      "Trousers                  530\n",
      "Flats                     500\n",
      "Bra                       477\n",
      "Dresses                   464\n",
      "Sarees                    427\n",
      "Earrings                  417\n",
      "Deodorant                 347\n",
      "Nail Polish               329\n",
      "Lipstick                  315\n",
      "Track Pants               304\n",
      "Name: count, dtype: int64\n",
      "\n",
      "\n",
      "*******************************************************************\n",
      "Getting rid of articles having <300 entries\n",
      "*******************************************************************\n",
      "\n",
      "\n",
      "<class 'pandas.core.frame.DataFrame'>\n",
      "Index: 37810 entries, 0 to 44445\n",
      "Data columns (total 3 columns):\n",
      " #   Column              Non-Null Count  Dtype \n",
      "---  ------              --------------  ----- \n",
      " 0   id                  37810 non-null  int64 \n",
      " 1   articleType         37810 non-null  object\n",
      " 2   productDisplayName  37805 non-null  object\n",
      "dtypes: int64(1), object(2)\n",
      "memory usage: 1.2+ MB\n",
      "\n",
      "\n",
      "*******************************************************************\n",
      "Sampling 300 articles from each articleType so that data is balanced for training the network\n",
      "*******************************************************************\n",
      "\n",
      "\n",
      "To access final data --- use final_data attribute of the object and to access original data use the df attribute of the object\n"
     ]
    }
   ],
   "source": [
    "image_data = create_data('/mnt/e/fashion-dataset/styles.csv')\n",
    "image_data.run()"
   ]
  },
  {
   "cell_type": "code",
   "execution_count": 3,
   "id": "08aac3d1",
   "metadata": {},
   "outputs": [
    {
     "data": {
      "text/html": [
       "<div>\n",
       "<style scoped>\n",
       "    .dataframe tbody tr th:only-of-type {\n",
       "        vertical-align: middle;\n",
       "    }\n",
       "\n",
       "    .dataframe tbody tr th {\n",
       "        vertical-align: top;\n",
       "    }\n",
       "\n",
       "    .dataframe thead th {\n",
       "        text-align: right;\n",
       "    }\n",
       "</style>\n",
       "<table border=\"1\" class=\"dataframe\">\n",
       "  <thead>\n",
       "    <tr style=\"text-align: right;\">\n",
       "      <th></th>\n",
       "      <th>id</th>\n",
       "      <th>articleType</th>\n",
       "      <th>productDisplayName</th>\n",
       "    </tr>\n",
       "  </thead>\n",
       "  <tbody>\n",
       "    <tr>\n",
       "      <th>0</th>\n",
       "      <td>15970</td>\n",
       "      <td>Shirts</td>\n",
       "      <td>Turtle Check Men Navy Blue Shirt</td>\n",
       "    </tr>\n",
       "    <tr>\n",
       "      <th>1</th>\n",
       "      <td>39386</td>\n",
       "      <td>Jeans</td>\n",
       "      <td>Peter England Men Party Blue Jeans</td>\n",
       "    </tr>\n",
       "    <tr>\n",
       "      <th>2</th>\n",
       "      <td>59263</td>\n",
       "      <td>Watches</td>\n",
       "      <td>Titan Women Silver Watch</td>\n",
       "    </tr>\n",
       "    <tr>\n",
       "      <th>3</th>\n",
       "      <td>21379</td>\n",
       "      <td>Track Pants</td>\n",
       "      <td>Manchester United Men Solid Black Track Pants</td>\n",
       "    </tr>\n",
       "    <tr>\n",
       "      <th>4</th>\n",
       "      <td>53759</td>\n",
       "      <td>Tshirts</td>\n",
       "      <td>Puma Men Grey T-shirt</td>\n",
       "    </tr>\n",
       "  </tbody>\n",
       "</table>\n",
       "</div>"
      ],
      "text/plain": [
       "      id  articleType                             productDisplayName\n",
       "0  15970       Shirts               Turtle Check Men Navy Blue Shirt\n",
       "1  39386        Jeans             Peter England Men Party Blue Jeans\n",
       "2  59263      Watches                       Titan Women Silver Watch\n",
       "3  21379  Track Pants  Manchester United Men Solid Black Track Pants\n",
       "4  53759      Tshirts                          Puma Men Grey T-shirt"
      ]
     },
     "execution_count": 3,
     "metadata": {},
     "output_type": "execute_result"
    }
   ],
   "source": [
    "image_data.df.head()"
   ]
  },
  {
   "cell_type": "code",
   "execution_count": 4,
   "id": "f32bec1b",
   "metadata": {},
   "outputs": [
    {
     "data": {
      "text/html": [
       "<div>\n",
       "<style scoped>\n",
       "    .dataframe tbody tr th:only-of-type {\n",
       "        vertical-align: middle;\n",
       "    }\n",
       "\n",
       "    .dataframe tbody tr th {\n",
       "        vertical-align: top;\n",
       "    }\n",
       "\n",
       "    .dataframe thead th {\n",
       "        text-align: right;\n",
       "    }\n",
       "</style>\n",
       "<table border=\"1\" class=\"dataframe\">\n",
       "  <thead>\n",
       "    <tr style=\"text-align: right;\">\n",
       "      <th></th>\n",
       "      <th>id</th>\n",
       "      <th>articleType</th>\n",
       "      <th>productDisplayName</th>\n",
       "      <th>articleType_label</th>\n",
       "    </tr>\n",
       "  </thead>\n",
       "  <tbody>\n",
       "    <tr>\n",
       "      <th>0</th>\n",
       "      <td>18427</td>\n",
       "      <td>Backpacks</td>\n",
       "      <td>Vital Gear Unisex Black Backpack</td>\n",
       "      <td>0</td>\n",
       "    </tr>\n",
       "    <tr>\n",
       "      <th>1</th>\n",
       "      <td>25868</td>\n",
       "      <td>Backpacks</td>\n",
       "      <td>American Tourister Unisex Purple Backpack</td>\n",
       "      <td>0</td>\n",
       "    </tr>\n",
       "    <tr>\n",
       "      <th>2</th>\n",
       "      <td>35203</td>\n",
       "      <td>Backpacks</td>\n",
       "      <td>Wildcraft Unisex Red &amp; Black Backpack</td>\n",
       "      <td>0</td>\n",
       "    </tr>\n",
       "    <tr>\n",
       "      <th>3</th>\n",
       "      <td>39877</td>\n",
       "      <td>Backpacks</td>\n",
       "      <td>ADIDAS Unisex Navy Blue Checked Backpack</td>\n",
       "      <td>0</td>\n",
       "    </tr>\n",
       "    <tr>\n",
       "      <th>4</th>\n",
       "      <td>3474</td>\n",
       "      <td>Backpacks</td>\n",
       "      <td>ADIDAS Men Navy Cobalt Backpack</td>\n",
       "      <td>0</td>\n",
       "    </tr>\n",
       "  </tbody>\n",
       "</table>\n",
       "</div>"
      ],
      "text/plain": [
       "      id articleType                         productDisplayName   \n",
       "0  18427   Backpacks           Vital Gear Unisex Black Backpack  \\\n",
       "1  25868   Backpacks  American Tourister Unisex Purple Backpack   \n",
       "2  35203   Backpacks      Wildcraft Unisex Red & Black Backpack   \n",
       "3  39877   Backpacks   ADIDAS Unisex Navy Blue Checked Backpack   \n",
       "4   3474   Backpacks            ADIDAS Men Navy Cobalt Backpack   \n",
       "\n",
       "   articleType_label  \n",
       "0                  0  \n",
       "1                  0  \n",
       "2                  0  \n",
       "3                  0  \n",
       "4                  0  "
      ]
     },
     "execution_count": 4,
     "metadata": {},
     "output_type": "execute_result"
    }
   ],
   "source": [
    "image_data.final_data.head()"
   ]
  },
  {
   "cell_type": "markdown",
   "id": "d0a888aa",
   "metadata": {},
   "source": [
    "## 3. Fetching necessary data only and saving in other directory"
   ]
  },
  {
   "cell_type": "code",
   "execution_count": null,
   "id": "ad0a7f66",
   "metadata": {},
   "outputs": [
    {
     "name": "stdout",
     "output_type": "stream",
     "text": [
      "Process Completed.................\n"
     ]
    }
   ],
   "source": [
    "imgs_ = final_imgs(image_data.final_data , '/mnt/e/fashion-dataset/filtered_data/' , '/mnt/e/fashion-dataset/images'  )\n",
    "imgs_.run()  "
   ]
  },
  {
   "cell_type": "code",
   "execution_count": 6,
   "id": "9bf4ae02",
   "metadata": {},
   "outputs": [
    {
     "data": {
      "text/html": [
       "<div>\n",
       "<style scoped>\n",
       "    .dataframe tbody tr th:only-of-type {\n",
       "        vertical-align: middle;\n",
       "    }\n",
       "\n",
       "    .dataframe tbody tr th {\n",
       "        vertical-align: top;\n",
       "    }\n",
       "\n",
       "    .dataframe thead th {\n",
       "        text-align: right;\n",
       "    }\n",
       "</style>\n",
       "<table border=\"1\" class=\"dataframe\">\n",
       "  <thead>\n",
       "    <tr style=\"text-align: right;\">\n",
       "      <th></th>\n",
       "      <th>id</th>\n",
       "      <th>articleType</th>\n",
       "      <th>productDisplayName</th>\n",
       "      <th>articleType_label</th>\n",
       "    </tr>\n",
       "  </thead>\n",
       "  <tbody>\n",
       "    <tr>\n",
       "      <th>0</th>\n",
       "      <td>18427.jpg</td>\n",
       "      <td>Backpacks</td>\n",
       "      <td>Vital Gear Unisex Black Backpack</td>\n",
       "      <td>0</td>\n",
       "    </tr>\n",
       "    <tr>\n",
       "      <th>1</th>\n",
       "      <td>25868.jpg</td>\n",
       "      <td>Backpacks</td>\n",
       "      <td>American Tourister Unisex Purple Backpack</td>\n",
       "      <td>0</td>\n",
       "    </tr>\n",
       "    <tr>\n",
       "      <th>2</th>\n",
       "      <td>35203.jpg</td>\n",
       "      <td>Backpacks</td>\n",
       "      <td>Wildcraft Unisex Red &amp; Black Backpack</td>\n",
       "      <td>0</td>\n",
       "    </tr>\n",
       "    <tr>\n",
       "      <th>3</th>\n",
       "      <td>39877.jpg</td>\n",
       "      <td>Backpacks</td>\n",
       "      <td>ADIDAS Unisex Navy Blue Checked Backpack</td>\n",
       "      <td>0</td>\n",
       "    </tr>\n",
       "    <tr>\n",
       "      <th>4</th>\n",
       "      <td>3474.jpg</td>\n",
       "      <td>Backpacks</td>\n",
       "      <td>ADIDAS Men Navy Cobalt Backpack</td>\n",
       "      <td>0</td>\n",
       "    </tr>\n",
       "    <tr>\n",
       "      <th>...</th>\n",
       "      <td>...</td>\n",
       "      <td>...</td>\n",
       "      <td>...</td>\n",
       "      <td>...</td>\n",
       "    </tr>\n",
       "    <tr>\n",
       "      <th>9295</th>\n",
       "      <td>30087.jpg</td>\n",
       "      <td>Watches</td>\n",
       "      <td>Ed Hardy Women White Watch</td>\n",
       "      <td>30</td>\n",
       "    </tr>\n",
       "    <tr>\n",
       "      <th>9296</th>\n",
       "      <td>33922.jpg</td>\n",
       "      <td>Watches</td>\n",
       "      <td>Citizen Women Blue Dial Watch</td>\n",
       "      <td>30</td>\n",
       "    </tr>\n",
       "    <tr>\n",
       "      <th>9297</th>\n",
       "      <td>29748.jpg</td>\n",
       "      <td>Watches</td>\n",
       "      <td>Fossil Men Quartz Brown Dial Chronograph Watch...</td>\n",
       "      <td>30</td>\n",
       "    </tr>\n",
       "    <tr>\n",
       "      <th>9298</th>\n",
       "      <td>43171.jpg</td>\n",
       "      <td>Watches</td>\n",
       "      <td>Fastrack Women Black Dial Watch</td>\n",
       "      <td>30</td>\n",
       "    </tr>\n",
       "    <tr>\n",
       "      <th>9299</th>\n",
       "      <td>21676.jpg</td>\n",
       "      <td>Watches</td>\n",
       "      <td>Fossil Men Black Dial Chronograph Watch CH2673</td>\n",
       "      <td>30</td>\n",
       "    </tr>\n",
       "  </tbody>\n",
       "</table>\n",
       "<p>9300 rows × 4 columns</p>\n",
       "</div>"
      ],
      "text/plain": [
       "             id articleType   \n",
       "0     18427.jpg   Backpacks  \\\n",
       "1     25868.jpg   Backpacks   \n",
       "2     35203.jpg   Backpacks   \n",
       "3     39877.jpg   Backpacks   \n",
       "4      3474.jpg   Backpacks   \n",
       "...         ...         ...   \n",
       "9295  30087.jpg     Watches   \n",
       "9296  33922.jpg     Watches   \n",
       "9297  29748.jpg     Watches   \n",
       "9298  43171.jpg     Watches   \n",
       "9299  21676.jpg     Watches   \n",
       "\n",
       "                                     productDisplayName  articleType_label  \n",
       "0                      Vital Gear Unisex Black Backpack                  0  \n",
       "1             American Tourister Unisex Purple Backpack                  0  \n",
       "2                 Wildcraft Unisex Red & Black Backpack                  0  \n",
       "3              ADIDAS Unisex Navy Blue Checked Backpack                  0  \n",
       "4                       ADIDAS Men Navy Cobalt Backpack                  0  \n",
       "...                                                 ...                ...  \n",
       "9295                         Ed Hardy Women White Watch                 30  \n",
       "9296                      Citizen Women Blue Dial Watch                 30  \n",
       "9297  Fossil Men Quartz Brown Dial Chronograph Watch...                 30  \n",
       "9298                    Fastrack Women Black Dial Watch                 30  \n",
       "9299     Fossil Men Black Dial Chronograph Watch CH2673                 30  \n",
       "\n",
       "[9300 rows x 4 columns]"
      ]
     },
     "execution_count": 6,
     "metadata": {},
     "output_type": "execute_result"
    }
   ],
   "source": [
    "imgs_.df"
   ]
  },
  {
   "cell_type": "code",
   "execution_count": 7,
   "id": "cb9e7a7e",
   "metadata": {},
   "outputs": [],
   "source": [
    "df = imgs_.df.rename(columns={'id': 'file_name'}) "
   ]
  },
  {
   "cell_type": "code",
   "execution_count": 8,
   "id": "a4c8d145",
   "metadata": {},
   "outputs": [
    {
     "name": "stdout",
     "output_type": "stream",
     "text": [
      "<class 'pandas.core.frame.DataFrame'>\n",
      "RangeIndex: 9300 entries, 0 to 9299\n",
      "Data columns (total 4 columns):\n",
      " #   Column              Non-Null Count  Dtype \n",
      "---  ------              --------------  ----- \n",
      " 0   file_name           9300 non-null   object\n",
      " 1   articleType         9300 non-null   object\n",
      " 2   productDisplayName  9296 non-null   object\n",
      " 3   articleType_label   9300 non-null   int32 \n",
      "dtypes: int32(1), object(3)\n",
      "memory usage: 254.4+ KB\n"
     ]
    }
   ],
   "source": [
    "df.info()"
   ]
  },
  {
   "cell_type": "code",
   "execution_count": 9,
   "id": "70e5eb0b",
   "metadata": {},
   "outputs": [
    {
     "name": "stdout",
     "output_type": "stream",
     "text": [
      "<class 'pandas.core.frame.DataFrame'>\n",
      "RangeIndex: 9300 entries, 0 to 9299\n",
      "Data columns (total 4 columns):\n",
      " #   Column              Non-Null Count  Dtype \n",
      "---  ------              --------------  ----- \n",
      " 0   file_name           9300 non-null   object\n",
      " 1   articleType         9300 non-null   object\n",
      " 2   productDisplayName  9300 non-null   object\n",
      " 3   articleType_label   9300 non-null   int32 \n",
      "dtypes: int32(1), object(3)\n",
      "memory usage: 254.4+ KB\n"
     ]
    }
   ],
   "source": [
    "df['productDisplayName'] = df['productDisplayName'].fillna('unknown')\n",
    "df.info()"
   ]
  },
  {
   "cell_type": "code",
   "execution_count": null,
   "id": "f96dce5a",
   "metadata": {},
   "outputs": [],
   "source": [
    "df.to_csv('/mnt/e/fashion-dataset/metadata/metadata.csv' , index=False )"
   ]
  },
  {
   "cell_type": "markdown",
   "id": "fbc2d9a3",
   "metadata": {},
   "source": [
    "## 4. Regrouping to upload data on hugging face hub"
   ]
  },
  {
   "cell_type": "code",
   "execution_count": null,
   "id": "93150c04",
   "metadata": {},
   "outputs": [],
   "source": [
    "regroup_imgs('/mnt/e/fashion-dataset/filtered_data' , '/mnt/e/fashion-dataset/metadata/metadata.csv' , '/mnt/d/regrouped_for_hugging_face')"
   ]
  },
  {
   "cell_type": "markdown",
   "id": "e32c9d31",
   "metadata": {},
   "source": [
    "## 5. Saving data to hugging face hub"
   ]
  },
  {
   "cell_type": "code",
   "execution_count": null,
   "id": "c2db20e9",
   "metadata": {},
   "outputs": [
    {
     "data": {
      "application/vnd.jupyter.widget-view+json": {
       "model_id": "498343ea191a4cd8852506ab63252a2b",
       "version_major": 2,
       "version_minor": 0
      },
      "text/plain": [
       "Resolving data files:   0%|          | 0/9300 [00:00<?, ?it/s]"
      ]
     },
     "metadata": {},
     "output_type": "display_data"
    },
    {
     "name": "stdout",
     "output_type": "stream",
     "text": [
      "Downloading and preparing dataset imagefolder/default to C:/Users/DELL/.cache/huggingface/datasets/imagefolder/default-882abad0870dd2a8/0.0.0/37fbb85cc714a338bea574ac6c7d0b5be5aff46c1862c1989b20e0771199e93f...\n"
     ]
    },
    {
     "data": {
      "application/vnd.jupyter.widget-view+json": {
       "model_id": "c37d576223244efebd8f9a22c761e370",
       "version_major": 2,
       "version_minor": 0
      },
      "text/plain": [
       "Downloading data files:   0%|          | 0/9300 [00:00<?, ?it/s]"
      ]
     },
     "metadata": {},
     "output_type": "display_data"
    },
    {
     "data": {
      "application/vnd.jupyter.widget-view+json": {
       "model_id": "f82ededdaadf4b23a56cae427ba8f265",
       "version_major": 2,
       "version_minor": 0
      },
      "text/plain": [
       "Downloading data files: 0it [00:00, ?it/s]"
      ]
     },
     "metadata": {},
     "output_type": "display_data"
    },
    {
     "data": {
      "application/vnd.jupyter.widget-view+json": {
       "model_id": "9a40fa516f7e4cc39738b3df6625e112",
       "version_major": 2,
       "version_minor": 0
      },
      "text/plain": [
       "Extracting data files: 0it [00:00, ?it/s]"
      ]
     },
     "metadata": {},
     "output_type": "display_data"
    },
    {
     "data": {
      "application/vnd.jupyter.widget-view+json": {
       "model_id": "",
       "version_major": 2,
       "version_minor": 0
      },
      "text/plain": [
       "Generating train split: 0 examples [00:00, ? examples/s]"
      ]
     },
     "metadata": {},
     "output_type": "display_data"
    },
    {
     "name": "stdout",
     "output_type": "stream",
     "text": [
      "Dataset imagefolder downloaded and prepared to C:/Users/DELL/.cache/huggingface/datasets/imagefolder/default-882abad0870dd2a8/0.0.0/37fbb85cc714a338bea574ac6c7d0b5be5aff46c1862c1989b20e0771199e93f. Subsequent calls will reuse this data.\n"
     ]
    },
    {
     "data": {
      "application/vnd.jupyter.widget-view+json": {
       "model_id": "e8261faedc91456b8645c1a7f7f25bff",
       "version_major": 2,
       "version_minor": 0
      },
      "text/plain": [
       "  0%|          | 0/1 [00:00<?, ?it/s]"
      ]
     },
     "metadata": {},
     "output_type": "display_data"
    },
    {
     "data": {
      "text/plain": [
       "DatasetDict({\n",
       "    train: Dataset({\n",
       "        features: ['image', 'Unnamed: 0', 'articleType', 'productDisplayName', 'articleType_label'],\n",
       "        num_rows: 9299\n",
       "    })\n",
       "})"
      ]
     },
     "execution_count": 2,
     "metadata": {},
     "output_type": "execute_result"
    }
   ],
   "source": [
    "\n",
    "\n",
    "#load dataset from local directory where images and metadata of the images are present\n",
    "dataset = load_dataset(\"imagefolder\", data_dir='/mnt/d/regrouped_for_hugging_face')\n",
    "\n",
    "#Checking different columns present in our dataset\n",
    "dataset"
   ]
  },
  {
   "cell_type": "code",
   "execution_count": null,
   "id": "46c11afb",
   "metadata": {},
   "outputs": [
    {
     "data": {
      "application/vnd.jupyter.widget-view+json": {
       "model_id": "b0a7bc08ebab4b16b35173550ee9e10f",
       "version_major": 2,
       "version_minor": 0
      },
      "text/plain": [
       "VBox(children=(HTML(value='<center> <img\\nsrc=https://huggingface.co/front/assets/huggingface_logo-noborder.sv…"
      ]
     },
     "metadata": {},
     "output_type": "display_data"
    }
   ],
   "source": [
    "#Log-In to the hugging face account\n",
    "notebook_login()"
   ]
  },
  {
   "cell_type": "code",
   "execution_count": 6,
   "id": "56a6166e",
   "metadata": {},
   "outputs": [
    {
     "name": "stderr",
     "output_type": "stream",
     "text": [
      "Pushing split train to the Hub.\n"
     ]
    },
    {
     "data": {
      "application/vnd.jupyter.widget-view+json": {
       "model_id": "",
       "version_major": 2,
       "version_minor": 0
      },
      "text/plain": [
       "Map:   0%|          | 0/9299 [00:00<?, ? examples/s]"
      ]
     },
     "metadata": {},
     "output_type": "display_data"
    },
    {
     "data": {
      "application/vnd.jupyter.widget-view+json": {
       "model_id": "2dfef0f95d21445e88970ed17fd7c18a",
       "version_major": 2,
       "version_minor": 0
      },
      "text/plain": [
       "Pushing dataset shards to the dataset hub:   0%|          | 0/1 [00:00<?, ?it/s]"
      ]
     },
     "metadata": {},
     "output_type": "display_data"
    },
    {
     "data": {
      "application/vnd.jupyter.widget-view+json": {
       "model_id": "f157c1ce851f428c83e6eaaf7a905251",
       "version_major": 2,
       "version_minor": 0
      },
      "text/plain": [
       "Downloading metadata:   0%|          | 0.00/542 [00:00<?, ?B/s]"
      ]
     },
     "metadata": {},
     "output_type": "display_data"
    }
   ],
   "source": [
    "#Finally, pushing the prepared dataset from local drive to hugging face hub\n",
    "dataset.push_to_hub('KrushiJethe/fashion_data')"
   ]
  }
 ],
 "metadata": {
  "kernelspec": {
   "display_name": "search-engine",
   "language": "python",
   "name": "image-search-engine"
  },
  "language_info": {
   "codemirror_mode": {
    "name": "ipython",
    "version": 3
   },
   "file_extension": ".py",
   "mimetype": "text/x-python",
   "name": "python",
   "nbconvert_exporter": "python",
   "pygments_lexer": "ipython3",
   "version": "3.12.3"
  }
 },
 "nbformat": 4,
 "nbformat_minor": 5
}
